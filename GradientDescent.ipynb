{
 "cells": [
  {
   "cell_type": "markdown",
   "metadata": {},
   "source": [
    "# Linear Regression From Scratch"
   ]
  },
  {
   "cell_type": "code",
   "execution_count": 1,
   "metadata": {},
   "outputs": [],
   "source": [
    "import numpy as np\n",
    "import matplotlib.pyplot as plt\n",
    "import pandas as pd"
   ]
  },
  {
   "cell_type": "code",
   "execution_count": 2,
   "metadata": {},
   "outputs": [],
   "source": [
    "x = np.array(\n",
    "    [8.4, 13.7, 15.0, 16.2, 17.4, 18.0, 18.7, 19.0, 19.6, 20.0, \n",
    "     21.0, 21.0, 21.0, 21.3, 22.0, 22.0, 22.0, 22.0, 22.0, 22.5, \n",
    "     22.5, 22.7, 23.0, 23.5, 24.0, 24.0, 24.6, 25.0, 25.6, 26.5, \n",
    "     27.3, 27.5, 27.5, 27.5, 28.0, 28.7, 30.0, 32.8, 34.5, 35.0, \n",
    "     36.5, 36.0, 37.0, 37.0, 39.0, 39.0, 39.0, 40.0, 40.0, 40.0, \n",
    "     40.0, 42.0, 43.0, 43.0, 43.5, 44.0]\n",
    "     )\n",
    "# y = x*3.3234\n",
    "y = np.array(\n",
    "    [5.9, 32.0, 40.0, 51.5, 70.0, 100.0, 78.0, 80.0, 85.0, 85.0, \n",
    "     110.0, 115.0, 125.0, 130.0, 120.0, 120.0, 130.0, 135.0, 110.0, \n",
    "     130.0, 150.0, 145.0, 150.0, 170.0, 225.0, 145.0, 188.0, 180.0, \n",
    "     197.0, 218.0, 300.0, 260.0, 265.0, 250.0, 250.0, 300.0, 320.0, \n",
    "     514.0, 556.0, 840.0, 685.0, 700.0, 700.0, 690.0, 900.0, 650.0, \n",
    "     820.0, 850.0, 900.0, 1015.0, 820.0, 1100.0, 1000.0, 1100.0, \n",
    "     1000.0, 1000.0]\n",
    "     )\n",
    "x = x.reshape(-1,1)\n",
    "y = y.reshape(-1,1)"
   ]
  },
  {
   "cell_type": "code",
   "execution_count": 84,
   "metadata": {},
   "outputs": [],
   "source": [
    "class LinearRegression:\n",
    "        \n",
    "    def __init__(self, alpha, iters):\n",
    "        # learning rate\n",
    "        self.alpha = alpha\n",
    "        # iteration\n",
    "        self.iters = iters\n",
    "        # parameters\n",
    "        self.theta = 0\n",
    "        self.theta0 = 0\n",
    "\n",
    "    def fit(self,X,y):\n",
    "        m, n = X.shape\n",
    "        y = y.reshape(m,1)\n",
    "        # set parameters to zero\n",
    "        self.theta = np.zeros((n,1))\n",
    "        self.theta0 = 0\n",
    "\n",
    "        # predict y with the given parameters\n",
    "        y_hat = np.dot(X,self.theta) + self.theta0\n",
    "\n",
    "        cost = []\n",
    "        for iter in range(self.iters):\n",
    "            # gradient descent\n",
    "            # find out the derivative of the gradient descent\n",
    "            d1 = np.mean(X * (y_hat-y))\n",
    "            d0 = np.mean((y_hat-y))\n",
    "            # derivative approaches 0 as we approach the bottom of our convex\n",
    "            # At the minimum, the derivative will be 0 or close to 0\n",
    "            self.theta -= self.alpha*d1\n",
    "            self.theta0 -= self.alpha*d0\n",
    "            # predict y with new parameters\n",
    "            y_hat = np.dot(X,self.theta) + self.theta0\n",
    "            # find the cost function and repeat\n",
    "            cost.append(np.mean((y_hat-y)**2))\n",
    "            # print(cost)\n",
    "        \n",
    "        return self.theta[0][0], self.theta0, cost\n",
    "\n",
    "        ## predict and score function\n",
    "    def predict(self,X):\n",
    "        y_pred = np.dot(X,self.theta) + self.theta0\n",
    "        return y_pred\n",
    "\n",
    "    # return r2 score\n",
    "    def score(self,y, y_pred):\n",
    "        # sum squared regression\n",
    "        sst = np.sum((y - np.mean(y))**2)\n",
    "        # total sum of squares\n",
    "        ssr = np.sum((y - y_pred)**2)\n",
    "        # r2 score\n",
    "        r2 = 1 - ssr / sst\n",
    "        return r2\n"
   ]
  },
  {
   "cell_type": "code",
   "execution_count": 85,
   "metadata": {},
   "outputs": [],
   "source": [
    "lr = LinearRegression(0.001, 50000)\n",
    "theta,theta0, cost = lr.fit(x,y)"
   ]
  },
  {
   "cell_type": "code",
   "execution_count": 80,
   "metadata": {},
   "outputs": [
    {
     "data": {
      "text/plain": [
       "0.9189911151822976"
      ]
     },
     "execution_count": 80,
     "metadata": {},
     "output_type": "execute_result"
    }
   ],
   "source": [
    "y_pred = lr.predict(x)\n",
    "lr.score(y, y_pred)\n",
    "# r2 score of 0.92"
   ]
  },
  {
   "cell_type": "code",
   "execution_count": 91,
   "metadata": {},
   "outputs": [
    {
     "data": {
      "text/plain": [
       "Text(0.5, 1.0, 'Cost vs Iteration')"
      ]
     },
     "execution_count": 91,
     "metadata": {},
     "output_type": "execute_result"
    },
    {
     "data": {
      "image/png": "[encoded data removed]",
      "text/plain": [
       "<Figure size 1080x360 with 2 Axes>"
      ]
     },
     "metadata": {
      "needs_background": "light"
     },
     "output_type": "display_data"
    }
   ],
   "source": [
    "f,ax = plt.subplots(1,2,figsize=(15,5))\n",
    "plt.suptitle('Result')\n",
    "ax[0].scatter(x,y)\n",
    "ax[0].plot([10,45], [10*theta+theta0, 45*theta+theta0])\n",
    "ax[0].set_title('LinearRegression')\n",
    "\n",
    "ax[1].plot([i for i in range(1,50001)], cost)\n",
    "ax[1].set_title('Cost vs Iteration')"
   ]
  }
 ],
 "metadata": {
  "interpreter": {
   "hash": "aee8b7b246df8f9039afb4144a1f6fd8d2ca17a180786b69acc140d282b71a49"
  },
  "kernelspec": {
   "display_name": "Python 3.10.0 64-bit",
   "language": "python",
   "name": "python3"
  },
  "language_info": {
   "codemirror_mode": {
    "name": "ipython",
    "version": 3
   },
   "file_extension": ".py",
   "mimetype": "text/x-python",
   "name": "python",
   "nbconvert_exporter": "python",
   "pygments_lexer": "ipython3",
   "version": "3.10.0"
  },
  "orig_nbformat": 4
 },
 "nbformat": 4,
 "nbformat_minor": 2
}
